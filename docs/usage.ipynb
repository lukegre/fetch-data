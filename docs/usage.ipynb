{
 "cells": [
  {
   "cell_type": "code",
   "execution_count": 1,
   "metadata": {
    "nbsphinx": "hidden"
   },
   "outputs": [],
   "source": [
    "%load_ext autoreload \n",
    "%autoreload 2"
   ]
  },
  {
   "cell_type": "markdown",
   "metadata": {},
   "source": [
    "You can download using the straight forward, interactive case. This makes getting a file pretty easy. You could also check out `pooch` for this purpose (which `fetch_data` is built around). "
   ]
  },
  {
   "cell_type": "markdown",
   "metadata": {},
   "source": [
    "# Simple case"
   ]
  },
  {
   "cell_type": "code",
   "execution_count": 2,
   "metadata": {},
   "outputs": [
    {
     "name": "stdout",
     "output_type": "stream",
     "text": [
      "/Users/luke/Downloads/avhrr-only-v2.19811101.nc\n",
      "/Users/luke/Downloads/avhrr-only-v2.19811102.nc\n"
     ]
    }
   ],
   "source": [
    "import fetch_data as fd\n",
    "\n",
    "url = (\n",
    "    \"https://www.ncei.noaa.gov/thredds/fileServer/OisstBase/NetCDF/V2.0/AVHRR/198111/avhrr-only-v2.19811101.nc\",\n",
    "    \"https://www.ncei.noaa.gov/thredds/fileServer/OisstBase/NetCDF/V2.0/AVHRR/198111/avhrr-only-v2.19811102.nc\"\n",
    ")\n",
    "\n",
    "flist = fd.download(url, dest='~/Downloads', n_jobs=1, verbose=False)\n",
    "\n",
    "print('\\n'.join(flist))"
   ]
  },
  {
   "cell_type": "markdown",
   "metadata": {},
   "source": [
    "# Using wildcards\n",
    "\n",
    "You can also use wild card allocation if you want to download multiple files from a server. \n",
    "Note that the server needs to allow this (especially for HTTP).\n",
    "In this case, the we get three files from an FTP server. You can also use this when the file name is not consistent. "
   ]
  },
  {
   "cell_type": "code",
   "execution_count": 3,
   "metadata": {},
   "outputs": [
    {
     "name": "stdout",
     "output_type": "stream",
     "text": [
      "/Users/luke/Downloads/sst.ltm.1961-1990.nc\n",
      "/Users/luke/Downloads/sst.ltm.1971-2000.nc\n",
      "/Users/luke/Downloads/sst.ltm.1981-2010.nc\n"
     ]
    }
   ],
   "source": [
    "url = \"ftp://ftp.cdc.noaa.gov/Datasets/noaa.oisst.v2/sst.ltm.*.nc\"\n",
    "flist = fd.download(url, dest='~/Downloads', n_jobs=1, verbose=False)\n",
    "\n",
    "print('\\n'.join(flist))"
   ]
  },
  {
   "cell_type": "markdown",
   "metadata": {},
   "source": [
    "# Downloading compressed files\n",
    "\n",
    "Compressed files are automatically decompressed. This is done automatically based on the file extension. \n",
    "The extensions currently supported are: `zip, gz, tar`.\n",
    "\n",
    "Below you can see what the output looks like. "
   ]
  },
  {
   "cell_type": "code",
   "execution_count": 5,
   "metadata": {},
   "outputs": [
    {
     "name": "stdout",
     "output_type": "stream",
     "text": [
      "/Users/luke/Downloads/EN.4.2.1.analyses.g10.2001.zip.unzip/EN.4.2.1.f.analysis.g10.200104.nc\n",
      "/Users/luke/Downloads/EN.4.2.1.analyses.g10.2001.zip.unzip/EN.4.2.1.f.analysis.g10.200110.nc\n",
      "/Users/luke/Downloads/EN.4.2.1.analyses.g10.2001.zip.unzip/EN.4.2.1.f.analysis.g10.200111.nc\n",
      "/Users/luke/Downloads/EN.4.2.1.analyses.g10.2001.zip.unzip/EN.4.2.1.f.analysis.g10.200101.nc\n",
      "/Users/luke/Downloads/EN.4.2.1.analyses.g10.2001.zip.unzip/EN.4.2.1.f.analysis.g10.200105.nc\n",
      "/Users/luke/Downloads/EN.4.2.1.analyses.g10.2001.zip.unzip/EN.4.2.1.f.analysis.g10.200108.nc\n",
      "/Users/luke/Downloads/EN.4.2.1.analyses.g10.2001.zip.unzip/EN.4.2.1.f.analysis.g10.200109.nc\n",
      "/Users/luke/Downloads/EN.4.2.1.analyses.g10.2001.zip.unzip/EN.4.2.1.f.analysis.g10.200112.nc\n",
      "/Users/luke/Downloads/EN.4.2.1.analyses.g10.2001.zip.unzip/EN.4.2.1.f.analysis.g10.200102.nc\n",
      "/Users/luke/Downloads/EN.4.2.1.analyses.g10.2001.zip.unzip/EN.4.2.1.f.analysis.g10.200106.nc\n",
      "/Users/luke/Downloads/EN.4.2.1.analyses.g10.2001.zip.unzip/EN.4.2.1.f.analysis.g10.200107.nc\n",
      "/Users/luke/Downloads/EN.4.2.1.analyses.g10.2001.zip.unzip/EN.4.2.1.f.analysis.g10.200103.nc\n"
     ]
    }
   ],
   "source": [
    "url = \"https://www.metoffice.gov.uk/hadobs/en4/data/en4-2-1/EN.4.2.1.analyses.g10.2001.zip\"\n",
    "flist = fd.download(url, dest='~/Downloads', verbose=False)\n",
    "\n",
    "print('\\n'.join(flist))"
   ]
  },
  {
   "cell_type": "markdown",
   "metadata": {},
   "source": [
    "# YAML catalog\n",
    "\n",
    "The advantage of using a catalog, is that all the information that you need to download the file is stored in a single file. This approach is better for a data pipeline approach. \n",
    "\n",
    "Below is the format that your `yaml` file should take:"
   ]
  },
  {
   "cell_type": "code",
   "execution_count": 17,
   "metadata": {
    "nbsphinx": "hidden"
   },
   "outputs": [
    {
     "name": "stdout",
     "output_type": "stream",
     "text": [
      "Overwriting /Users/luke/Downloads/example_catalog.yml\n"
     ]
    }
   ],
   "source": [
    "%%writefile ~/Downloads/example_catalog.yml\n",
    "\n",
    "# the name of the variable goes here. \n",
    "oisst_ice: \n",
    "  # url is compulsory. Can use formatting as shown below, but has to be given as a kwarg\n",
    "  url: ftp://ftp2.psl.noaa.gov/Datasets/noaa.oisst.v2.highres/icec.day.mean.{year}.nc\n",
    "  # will default to ~/Downloads if not present. \n",
    "  dest: ~/Downloads/NOAA_OISST/{year}/\n",
    "  # name\n",
    "  name: NOAA Optimally Interpolated Sea Surface Temperature\n",
    "  meta:  # all entries in the meta will be written to README.txt file in the dest\n",
    "    description: >\n",
    "      Optimally interpolated sea surface temperature\n",
    "    citation: >\n",
    "      Reynolds, R.W., N.A. Rayner, T.M. Smith, D.C. Stokes, and W. Wang, \n",
    "      2002: An improved in situ and satellite SST analysis for climate. \n",
    "      J. Climate, 15, 1609-1625.\n",
    "    doi: https://doi.org/10.1175/1520-0442(2002)015%3C1609:AIISAS%3E2.0.CO;2"
   ]
  },
  {
   "cell_type": "markdown",
   "metadata": {},
   "source": [
    "```yaml\n",
    "# the name of the variable goes here. \n",
    "oisst_ice: \n",
    "  # url is compulsory. Can use formatting as shown below, but has to be given as a kwarg\n",
    "  url: ftp://ftp2.psl.noaa.gov/Datasets/noaa.oisst.v2.highres/icec.day.mean.{year}.nc\n",
    "  # will default to ~/Downloads if not present. \n",
    "  dest: ~/Downloads/NOAA_OISST/{year}/\n",
    "  # name\n",
    "  name: NOAA Optimally Interpolated Sea Surface Temperature\n",
    "  meta:  # all entries in the meta will be written to README.txt file in the dest\n",
    "    description: >\n",
    "      Optimally interpolated sea surface temperature\n",
    "    citation: >\n",
    "      Reynolds, R.W., N.A. Rayner, T.M. Smith, D.C. Stokes, and W. Wang, \n",
    "      2002: An improved in situ and satellite SST analysis for climate. \n",
    "      J. Climate, 15, 1609-1625.\n",
    "    doi: https://doi.org/10.1175/1520-0442(2002)015%3C1609:AIISAS%3E2.0.CO;2\n",
    "```"
   ]
  },
  {
   "cell_type": "code",
   "execution_count": 18,
   "metadata": {},
   "outputs": [
    {
     "name": "stdout",
     "output_type": "stream",
     "text": [
      "/Users/luke/Git/fetch-data/docs/tests/downloads/oisstv2/icec.day.mean.2000.nc\n"
     ]
    }
   ],
   "source": [
    "import fetch_data as fd\n",
    "\n",
    "cat = fd.read_catalog('../tests/example_catalog.yml')\n",
    "flist = fd.download(**cat['oisst_ice'], year=2000)\n",
    "\n",
    "print('\\n'.join(flist))"
   ]
  },
  {
   "cell_type": "markdown",
   "metadata": {},
   "source": [
    "# Logging\n",
    "\n",
    "`fetch_data` also does logging to your session and/or to a file. This is useful if you want to track the progress of downloading many files. It may also be useful when some files fail to download (these are recorded). "
   ]
  },
  {
   "cell_type": "code",
   "execution_count": 19,
   "metadata": {},
   "outputs": [
    {
     "name": "stderr",
     "output_type": "stream",
     "text": [
      "2021-04-09 22:53:37 [DOWNLOAD]  ================================================================================\n",
      "\n",
      "\n",
      "2021-04-09 22:53:37 [DOWNLOAD]  Start of logging session\n",
      "2021-04-09 22:53:37 [DOWNLOAD]  --------------------------------------------------------------------------------\n",
      "2021-04-09 22:53:37 [DOWNLOAD]    2 files at https://www.ncei.noaa.gov/thredds/fileServer/OisstBase/NetCDF/V2.0/AVHRR/198111/avhrr-only-v2.19811101.nc\n",
      "2021-04-09 22:53:37 [DOWNLOAD]  Files will be saved to /Users/luke/Downloads\n",
      "2021-04-09 22:53:37 [DOWNLOAD]  retrieving https://www.ncei.noaa.gov/thredds/fileServer/OisstBase/NetCDF/V2.0/AVHRR/198111/avhrr-only-v2.19811101.nc\n",
      "2021-04-09 22:53:37 [DOWNLOAD]  retrieving https://www.ncei.noaa.gov/thredds/fileServer/OisstBase/NetCDF/V2.0/AVHRR/198111/avhrr-only-v2.19811102.nc\n",
      "2021-04-09 22:53:37 [DOWNLOAD]  SUMMARY: Retrieved=2, Failed=0 listing failed below: \n",
      "\n"
     ]
    }
   ],
   "source": [
    "url = (\n",
    "    \"https://www.ncei.noaa.gov/thredds/fileServer/OisstBase/NetCDF/V2.0/AVHRR/198111/avhrr-only-v2.19811101.nc\",\n",
    "    \"https://www.ncei.noaa.gov/thredds/fileServer/OisstBase/NetCDF/V2.0/AVHRR/198111/avhrr-only-v2.19811102.nc\"\n",
    ")\n",
    "\n",
    "flist = fd.download(url, dest='~/Downloads', n_jobs=1, verbose=True)"
   ]
  },
  {
   "cell_type": "code",
   "execution_count": null,
   "metadata": {},
   "outputs": [],
   "source": []
  }
 ],
 "metadata": {
  "kernelspec": {
   "display_name": "Python 3",
   "language": "python",
   "name": "python3"
  },
  "language_info": {
   "codemirror_mode": {
    "name": "ipython",
    "version": 3
   },
   "file_extension": ".py",
   "mimetype": "text/x-python",
   "name": "python",
   "nbconvert_exporter": "python",
   "pygments_lexer": "ipython3",
   "version": "3.8.5"
  },
  "nbsphinx": {
   "execute": "never"
  }
 },
 "nbformat": 4,
 "nbformat_minor": 4
}
